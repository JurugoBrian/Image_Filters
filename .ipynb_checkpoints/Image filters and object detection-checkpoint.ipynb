{
 "cells": [
  {
   "cell_type": "code",
   "execution_count": 1,
   "id": "0d20c869",
   "metadata": {},
   "outputs": [
    {
     "ename": "ModuleNotFoundError",
     "evalue": "No module named 'cv2'",
     "output_type": "error",
     "traceback": [
      "\u001b[1;31m---------------------------------------------------------------------------\u001b[0m",
      "\u001b[1;31mModuleNotFoundError\u001b[0m                       Traceback (most recent call last)",
      "\u001b[1;32mC:\\Users\\JURUGO~1\\AppData\\Local\\Temp/ipykernel_4260/4002801330.py\u001b[0m in \u001b[0;36m<module>\u001b[1;34m\u001b[0m\n\u001b[0;32m      5\u001b[0m \u001b[1;33m\u001b[0m\u001b[0m\n\u001b[0;32m      6\u001b[0m \u001b[1;32mimport\u001b[0m \u001b[0mnumpy\u001b[0m \u001b[1;32mas\u001b[0m \u001b[0mnp\u001b[0m\u001b[1;33m\u001b[0m\u001b[1;33m\u001b[0m\u001b[0m\n\u001b[1;32m----> 7\u001b[1;33m \u001b[1;32mimport\u001b[0m \u001b[0mcv2\u001b[0m \u001b[1;32mas\u001b[0m \u001b[0mcv\u001b[0m\u001b[1;33m\u001b[0m\u001b[1;33m\u001b[0m\u001b[0m\n\u001b[0m\u001b[0;32m      8\u001b[0m \u001b[1;32mfrom\u001b[0m \u001b[0mmatplotlib\u001b[0m \u001b[1;32mimport\u001b[0m \u001b[0mpyplot\u001b[0m \u001b[1;32mas\u001b[0m \u001b[0mplt\u001b[0m\u001b[1;33m\u001b[0m\u001b[1;33m\u001b[0m\u001b[0m\n",
      "\u001b[1;31mModuleNotFoundError\u001b[0m: No module named 'cv2'"
     ]
    }
   ],
   "source": [
    "# NAME:            ANYANZO IVAN BRIAN\n",
    "# STUDENT NUMBER:  2000717674\n",
    "# REGISTRATION NO: 2020/HD05/17674U\n",
    "# COURSE:          MASTER OF SCIENCE IN COMPUTER SCIENCE\n",
    "\n",
    "import numpy as np\n",
    "import cv2 as cv\n",
    "from matplotlib import pyplot as plt"
   ]
  },
  {
   "cell_type": "code",
   "execution_count": null,
   "id": "4b0dbee9",
   "metadata": {},
   "outputs": [],
   "source": [
    "# Average FIlter\n",
    "\n",
    "# Average filter is used to blur an image in order to remove the noise\n",
    "# The average of pixel values in a m x m matrix is first determined\n",
    "# The pixel intensity of the center element is then replaced by the mean\n",
    "\n",
    "average_image = cv.imread(\"./SampleImages/frame1.jpg\") # Reads the image\n",
    "average_filter = cv.blur(average_image, (3,3)) # Covolve a 3x3 kernel with the image\n",
    "\n",
    "plt.subplot(121),plt.imshow(average_image),plt.title(\"Original Image\")\n",
    "plt.xticks([]), plt.yticks([])\n",
    "plt.subplot(122),plt.imshow(average_image),plt.title(\"Average Filtered Image\")\n",
    "plt.xticks([]), plt.yticks([])\n",
    "plt.show\n",
    "\n",
    "# Pros of Average filter\n",
    "# 1. It reduces speckle noise in colored images does not lose image details \n",
    "# 2. It removes noise in grayscale images and does not create artifacts. \n",
    "\n",
    "# Cons of Average filter\n",
    "# 1. It creates some artifacts in colored images\n",
    "# 2. Some image details are lost in grayscale images"
   ]
  },
  {
   "cell_type": "code",
   "execution_count": null,
   "id": "4f1b80e6",
   "metadata": {},
   "outputs": [],
   "source": [
    "# Median Filter\n",
    "\n",
    "# Median filter is used to calculate the median of the pixel values\n",
    "# that are around the center pixel in a m x m kernel. \n",
    "# The pixel intensity of the center pixel is then replaced by the median value\n",
    "\n",
    "median_image = cv.imread(\"./SampleImages/frame22.jpg\") # Reads the image\n",
    "median_filter = cv.medianBlur(median_image, 3)\n",
    "\n",
    "plt.subplot(121),plt.imshow(median_image),plt.title(\"Original Image\")\n",
    "plt.xticks([]), plt.yticks([])\n",
    "plt.subplot(122),plt.imshow(median_image),plt.title(\"Median Filtered Image\")\n",
    "plt.xticks([]), plt.yticks([])\n",
    "plt.show\n",
    "\n",
    "# Pros of Median filter\n",
    "# 1. It performs better when removing salt and paper noise compared to the Mean and Gaussian filters\n",
    "# 2. It preserves image edges\n",
    "\n",
    "# Cons of Median filter\n",
    "# 1. It is not good at removing speckle noise"
   ]
  },
  {
   "cell_type": "code",
   "execution_count": null,
   "id": "8c64eddd",
   "metadata": {},
   "outputs": [],
   "source": [
    "# Gaussian Filter\n",
    "\n",
    "# Guassian filter is simillar to the mean filter expect that it uses the weighted\n",
    "# avarage of the surrounding pixels and has a parameter sigma,.\n",
    "# The Guassina filter is highely effective at removing Gaussian noise from an image\n",
    "\n",
    "gaussian_image = cv.imread(\"./SampleImages/frame18984.jpg\") # Reads the image\n",
    "gaussian_filter = cv.GaussianBlur(gaussian_image, (3,3), 1)\n",
    "\n",
    "plt.subplot(121),plt.imshow(gaussian_image),plt.title(\"Original Image\")\n",
    "plt.xticks([]), plt.yticks([])\n",
    "plt.subplot(122),plt.imshow(gaussian_image),plt.title(\"Gaussian Filtered Image\")\n",
    "plt.xticks([]), plt.yticks([])\n",
    "plt.show\n",
    "\n",
    "# Pros of Gaussian filter\n",
    "# 1. It performs better than the mean filter when preserving images of a simillar size\n",
    "\n",
    "# Cons of Gaussian filter\n",
    "# 1.It blurs the image edges just like the mean filter"
   ]
  },
  {
   "cell_type": "code",
   "execution_count": null,
   "id": "17e8147b",
   "metadata": {},
   "outputs": [],
   "source": [
    "# Varying the filters from 3x3 to 7x7 and α =1 to 5 increases on the bluring effect."
   ]
  },
  {
   "cell_type": "code",
   "execution_count": null,
   "id": "36b9ce26",
   "metadata": {},
   "outputs": [],
   "source": [
    "# Canny Edge Detection\n",
    "\n",
    "# Canny Edge Detection is a multi-stage algorithm that  first removes noise from an image,\n",
    "# then gets the Intensity Gradient of the Image, later does a full scan of\n",
    "# the image to remove any unwanted pixels which may not constitute the edge,\n",
    "# and finally doesHysteresis Thresholding\n",
    "\n",
    "canny_image = cv.imread(\"./SampleImages/frame1.jpg\")\n",
    "canny_edges = cv.Canny(canny_image, 50, 200)\n",
    "plt.subplot(121),plt.imshow(canny_image,cmap = 'gray')\n",
    "plt.title('Original Image'), plt.xticks([]), plt.yticks([])\n",
    "plt.subplot(122),plt.imshow(canny_edges,cmap = 'gray')\n",
    "plt.title('Canny Edge Image'), plt.xticks([]), plt.yticks([])\n",
    "plt.show()\n",
    "\n",
    "# Pros of Canny Edge Detection\n",
    "# 1. The algorithm provides better detection perfomance in noise condition environments\n",
    "# compared to other detection techniques.\n",
    "# 2. It can produce good thin and smooth detection of the edge\n",
    "\n",
    "# Cons of Canny Edge Detection\n",
    "# 1. It is a more computationaly complex and time consuming compared to other edge \n",
    "# detection algorithms\n",
    "# 2. It gives false edges if the threshold is too low or some edges may be missing if the\n",
    "# threshold is too high."
   ]
  },
  {
   "cell_type": "code",
   "execution_count": null,
   "id": "d8fc3c55",
   "metadata": {},
   "outputs": [],
   "source": [
    "# The Laplacian of Gaussian (LoG) Edge Detection Technique\n",
    "\n",
    "# LoG is a Second-order differential algorithm whcih  first smoothes the image using the \n",
    "# Gaussian low-pass filter and then computes the image edges of the steep using the Laplacian algorithm.\n",
    "\n",
    "\n",
    "\n",
    "\n",
    "\n",
    "\n",
    "# Pros of LoG\n",
    "# 1. It is good at finding the correct places of edges and tests a broad area around the pixel \n",
    "# 2. It ensures that the pixels at the place where intensity changes takes place\n",
    "\n",
    "# Cons of LoG\n",
    "# 1. It does'nt perform well around image corners, curves and where the grey level pixel intensity function varies\n",
    "# 2. It can't find the direction of edge because it uses the Laplacian filter"
   ]
  },
  {
   "cell_type": "code",
   "execution_count": null,
   "id": "3a7f7f22",
   "metadata": {},
   "outputs": [],
   "source": [
    "# Roberts Edge Detection Technique\n",
    "\n",
    "# Roberts edge detection operator is based on the principle that difference on any\n",
    "# pair of mutually perpendicular direction can be used to calculate the gradient.\n",
    "\n",
    "\n",
    "\n",
    "\n",
    "# Pros of Roberts Edge Detection\n",
    "# 1. It is a simple and computationally efficient edge detection technique \n",
    "\n",
    "# Cons of Roberts Edge Detection Technique\n",
    "# 1. It can’t detect that type of edges which are multiplie s of 45 degrees ant it is not symmetric\n",
    "# 2. It is very sensitive to the noise and it's accuracy decreases as the gradient magnitude of the edges decreases"
   ]
  },
  {
   "cell_type": "code",
   "execution_count": null,
   "id": "b9dfbd35",
   "metadata": {
    "collapsed": true
   },
   "outputs": [],
   "source": [
    "# Sobel Edge Detection Technique\n",
    "\n",
    "# The Sobel technique performs a 2-D spatial gradient quantity on an image and so\n",
    "# highlights regions of high spatial frequency that correspond to edges.\n",
    "\n",
    "\n",
    "\n",
    "\n",
    "\n",
    "# Pros of Sobel Edge Detection Technique\n",
    "# 1. The Sobel technique is simple in detecting edges and their orientation because \n",
    "# it approximates the gradient calculation\n",
    "\n",
    "# Cons of Sobel Edge Detection Technique\n",
    "# 1. It inacurrate and sensitive to noise. An increase in noise degrades the gradient\n",
    "# magnitude of the edges which produces inaccurate results"
   ]
  },
  {
   "cell_type": "code",
   "execution_count": null,
   "id": "ca266312",
   "metadata": {},
   "outputs": [],
   "source": [
    "# Perwit Edege Detection Technique\n",
    "\n",
    "# Perwit basically uses two masks, one for detecting image derivatives in X and\n",
    "# one for detecting image derivative in Y. To find edges, a user convolves an image\n",
    "# with both masks, producing two derivative images (dx and dy)\n",
    "\n",
    "\n",
    "# Pros Perwit Edge Detection Technique\n",
    "# 1. Prewitt technique is slightly simpler to implement computationally than the Sobel techniquedetection\n",
    "\n",
    "# Cons of Perwit Edge Detection Technique\n",
    "# 1. It tends to produce more noisier results than Sobel."
   ]
  },
  {
   "cell_type": "code",
   "execution_count": null,
   "id": "2bce5669",
   "metadata": {},
   "outputs": [],
   "source": [
    "# Kirsh Edge Detection Technique"
   ]
  },
  {
   "cell_type": "code",
   "execution_count": null,
   "id": "a04ab983",
   "metadata": {},
   "outputs": [],
   "source": [
    "# Robinson Edge Detection Technique"
   ]
  },
  {
   "cell_type": "code",
   "execution_count": null,
   "id": "0403123d",
   "metadata": {},
   "outputs": [],
   "source": [
    "# Marr - Hildreth Edge Detection Technique"
   ]
  }
 ],
 "metadata": {
  "kernelspec": {
   "display_name": "Python 3 (ipykernel)",
   "language": "python",
   "name": "python3"
  },
  "language_info": {
   "codemirror_mode": {
    "name": "ipython",
    "version": 3
   },
   "file_extension": ".py",
   "mimetype": "text/x-python",
   "name": "python",
   "nbconvert_exporter": "python",
   "pygments_lexer": "ipython3",
   "version": "3.8.12"
  }
 },
 "nbformat": 4,
 "nbformat_minor": 5
}
